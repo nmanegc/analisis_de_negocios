{
 "cells": [
  {
   "cell_type": "markdown",
   "metadata": {},
   "source": [
    "# Toma de decisiones de negocios basadas en datos\n",
    "\n",
    "## Contexto\n",
    "Eres analista en una gran tienda en línea. Junto con el departamento de marketing has recopilado una lista de hipótesis que pueden ayudar a aumentar los ingresos. \n",
    "\n",
    "Tienes que priorizar estas hipótesis, lanzar un test A/B y analizar los resultados.\n",
    "\n",
    "## Descripción de los datos\n",
    "\n",
    "### Datos utilizados en la primera parte del proyecto\n",
    "\n",
    "`'/datasets/hypotheses_us.csv'`:\n",
    "- `Hypotheses`: breves descripciones de las hipótesis\n",
    "- `Reach`: alcance del usuario, en una escala del uno a diez\n",
    "- `Impact`: impacto en los usuarios, en una escala del uno al diez\n",
    "- `Confidence`: confianza en la hipótesis, en una escala del uno al diez\n",
    "- `Effort`: los recursos necesarios para probar una hipótesis, en una escala del uno al diez. Cuanto mayor sea el valor Effort, más recursos requiere la prueba.\n",
    "\n",
    "### Datos utilizados en la segunda parte del proyecto\n",
    "`'/datasets/orders_us.csv'`:\n",
    "- `transactionId`: identificador de pedido\n",
    "- `visitorId`: identificador del usuario que realizó el pedido\n",
    "- `date`: fecha del pedido\n",
    "- `revenue`: ingresos del pedido\n",
    "- `group`: el grupo del test A/B al que pertenece el usuario\n",
    "\n",
    "`'/datasets/visits_us.csv'`:\n",
    "- `date`: la fecha\n",
    "- `group`: grupo del test A/B\n",
    "- `visits`: el número de visitas en la fecha especificada para el grupo de test A/B especificado\n",
    "\n",
    "Asegúrate de preprocesar los datos. Es posible que haya errores en los datasets originales; por ejemplo, algunos de los visitantes podrían haber entrado tanto en el grupo A como en el grupo B.\n",
    "\n",
    "## Parte 1. Priorizar hipótesis\n",
    "El archivo `'hypotheses_us.csv'` contiene nueve hipótesis sobre cómo aumentar los ingresos de una tienda en línea con `Reach`, `Impact`, `Confidence` y `Effort` especificados para cada una.\n",
    "\n",
    "El ejercicio consiste en:\n",
    "\n",
    "- Aplicar el framework `ICE` para priorizar hipótesis. Ordenarlas en orden descendente de prioridad.\n",
    "- Aplicar el framework `RICE` para priorizar hipótesis. Ordenarlas en orden descendente de prioridad.\n",
    "- Mostrar cómo cambia la priorización de hipótesis cuando utilizas `RICE` en lugar de `ICE`. Proporcionar una explicación de los cambios.\n",
    "\n",
    "## Parte 2. Análisis de test A/B\n",
    "Realizaste un test A/B y obtuviste los resultados descritos en los archivos `'orders_us.csv'` y `'visitors_us.csv'`.\n",
    "\n",
    "### Ejercicio\n",
    "#### Analiza el test A/B\n",
    "\n",
    "1. Representa gráficamente el ingreso acumulado por grupo. Haz conclusiones y conjeturas.\n",
    "\n",
    "2. Representa gráficamente el tamaño de pedido promedio acumulado por grupo. Haz conclusiones y conjeturas.\n",
    "\n",
    "3. Representa gráficamente la diferencia relativa en el tamaño de pedido promedio acumulado para el grupo B en comparación con el grupo A. Haz conclusiones y conjeturas.\n",
    "\n",
    "4. Calcula la tasa de conversión de cada grupo como la relación entre los pedidos y el número de visitas de cada día. Representa gráficamente las tasas de conversión diarias de los dos grupos y describe la diferencia. Saca conclusiones y haz conjeturas.\n",
    "\n",
    "5. Traza un gráfico de dispersión del número de pedidos por usuario. Haz conclusiones y conjeturas.\n",
    "\n",
    "6. Calcula los percentiles 95 y 99 para el número de pedidos por usuario. Define el punto en el cual un punto de datos se convierte en una anomalía.\n",
    "\n",
    "7. Traza un gráfico de dispersión de los precios de los pedidos. Haz conclusiones y conjeturas.\n",
    "\n",
    "8. Calcula los percentiles 95 y 99 de los precios de los pedidos. Define el punto en el cual un punto de datos se convierte en una anomalía.\n",
    "\n",
    "9. Encuentra la significancia estadística de la diferencia en la conversión entre los grupos utilizando los datos en bruto. Haz conclusiones y conjeturas.\n",
    "\n",
    "10. Encuentra la significancia estadística de la diferencia en el tamaño promedio de pedido entre los grupos utilizando los datos en bruto. Haz conclusiones y conjeturas.\n",
    "\n",
    "11. Encuentra la significancia estadística de la diferencia en la conversión entre los grupos utilizando los datos filtrados. Haz conclusiones y conjeturas.\n",
    "\n",
    "12. Encuentra la significancia estadística de la diferencia en el tamaño promedio de pedido entre los grupos utilizando los datos filtrados. Haz conclusiones y conjeturas.\n",
    "\n",
    "13. Toma una decisión basada en los resultados de la prueba. Las decisiones posibles son:\n",
    "    1. Para la prueba, considera a uno de los grupos como líder. \n",
    "    2. Para la prueba, concluye que no hay diferencia entre los grupos. \n",
    "    3. Continúa la prueba."
   ]
  },
  {
   "cell_type": "markdown",
   "metadata": {},
   "source": [
    "## Paso 1: Priorizar hipótesis\n",
    "\n",
    "Se inicia con la carga de los conjuntos de datos, y la exploración inicial de los mismos. Las herramientas a utilizar son:\n",
    "\n",
    "- Importación de librerías a utilizar.\n",
    "- Lectura del archivo de datos, y creación de los dataframes.\n",
    "- Exploración inicial, se utilizan las siguientes herramientas para obtener información acerca del dataset:\n",
    "    * `'sample()'`: para obetner una muestra aleatoria de los datos.\n",
    "    * `'info()'`: para obtener una descripción general del dataset.\n",
    "    * `'dtypes'`: para obterner información acerca del tipo de datos de las columnas del dataset.\n",
    "    * `'describe()'`: para revisar valores de tipo numérico."
   ]
  },
  {
   "cell_type": "markdown",
   "metadata": {},
   "source": [
    "### Importación de librerías"
   ]
  },
  {
   "cell_type": "code",
   "execution_count": 1,
   "metadata": {},
   "outputs": [],
   "source": [
    "# Se cargan todas la librerías\n",
    "import pandas as pd\n",
    "import numpy as np\n",
    "import math as mt\n",
    "import datetime as dt\n",
    "import plotly.express as px\n",
    "import seaborn as sns\n",
    "from scipy import stats as st\n",
    "from matplotlib import pyplot as plt"
   ]
  },
  {
   "cell_type": "markdown",
   "metadata": {},
   "source": [
    "### Lectura del archivo de datos"
   ]
  },
  {
   "cell_type": "code",
   "execution_count": 2,
   "metadata": {},
   "outputs": [],
   "source": [
    "hypotheses = pd.read_csv('hypotheses_us.csv', sep=';')\n"
   ]
  },
  {
   "cell_type": "markdown",
   "metadata": {},
   "source": [
    "### Exploración inicial del dataset"
   ]
  },
  {
   "cell_type": "markdown",
   "metadata": {},
   "source": [
    "#### Dataset `'hypotheses_us.csv'`"
   ]
  },
  {
   "cell_type": "code",
   "execution_count": 3,
   "metadata": {},
   "outputs": [
    {
     "name": "stdout",
     "output_type": "stream",
     "text": [
      "-- Una muestra de los datos del dataset 'hypotheses_us.csv': \n",
      "\n",
      "                                          Hypothesis  Reach  Impact  \\\n",
      "0  Add two new channels for attracting traffic. T...      3      10   \n",
      "1  Launch your own delivery service. This will sh...      2       5   \n",
      "2  Add product recommendation blocks to the store...      8       3   \n",
      "3  Change the category structure. This will incre...      8       3   \n",
      "4  Change the background color on the main page. ...      3       1   \n",
      "5  Add a customer review page. This will increase...      3       2   \n",
      "6  Show banners with current offers and sales on ...      5       3   \n",
      "7  Add a subscription form to all the main pages....     10       7   \n",
      "8  Launch a promotion that gives users discounts ...      1       9   \n",
      "\n",
      "   Confidence  Effort  \n",
      "0           8       6  \n",
      "1           4      10  \n",
      "2           7       3  \n",
      "3           3       8  \n",
      "4           1       1  \n",
      "5           2       3  \n",
      "6           8       3  \n",
      "7           8       5  \n",
      "8           9       5  \n",
      "\n",
      "-- Información general del dataset 'hypotheses_us.csv': \n",
      "\n",
      "<class 'pandas.core.frame.DataFrame'>\n",
      "RangeIndex: 9 entries, 0 to 8\n",
      "Data columns (total 5 columns):\n",
      " #   Column      Non-Null Count  Dtype \n",
      "---  ------      --------------  ----- \n",
      " 0   Hypothesis  9 non-null      object\n",
      " 1   Reach       9 non-null      int64 \n",
      " 2   Impact      9 non-null      int64 \n",
      " 3   Confidence  9 non-null      int64 \n",
      " 4   Effort      9 non-null      int64 \n",
      "dtypes: int64(4), object(1)\n",
      "memory usage: 488.0+ bytes\n",
      "\n",
      "-- Tipos de datos del dataset 'hypotheses_us.csv': \n",
      "\n",
      "Hypothesis    object\n",
      "Reach          int64\n",
      "Impact         int64\n",
      "Confidence     int64\n",
      "Effort         int64\n",
      "dtype: object\n",
      "\n",
      "-- Se muestra información general acerca de los datos numéricos del dataset:\n",
      "\n",
      "           Reach     Impact  Confidence     Effort\n",
      "count   9.000000   9.000000    9.000000   9.000000\n",
      "mean    4.777778   4.777778    5.555556   4.888889\n",
      "std     3.153481   3.192874    3.045944   2.803767\n",
      "min     1.000000   1.000000    1.000000   1.000000\n",
      "25%     3.000000   3.000000    3.000000   3.000000\n",
      "50%     3.000000   3.000000    7.000000   5.000000\n",
      "75%     8.000000   7.000000    8.000000   6.000000\n",
      "max    10.000000  10.000000    9.000000  10.000000\n"
     ]
    }
   ],
   "source": [
    "# Se imprime una muestras de los registros del dataset\n",
    "print(\"-- Una muestra de los datos del dataset 'hypotheses_us.csv': \\n\")\n",
    "print(hypotheses)\n",
    "print()\n",
    "\n",
    "# Se lee la infomación general del dataset\n",
    "print(\"-- Información general del dataset 'hypotheses_us.csv': \\n\")\n",
    "hypotheses.info()\n",
    "print()\n",
    "\n",
    "# Se validan los tipos de datos de las columnas\n",
    "print(\"-- Tipos de datos del dataset 'hypotheses_us.csv': \\n\")\n",
    "print(hypotheses.dtypes)\n",
    "print()\n",
    "\n",
    "print(\"-- Se muestra información general acerca de los datos numéricos del dataset:\\n\")\n",
    "print(hypotheses.describe())"
   ]
  },
  {
   "cell_type": "markdown",
   "metadata": {},
   "source": [
    "#### Hallazgos dataset `'hypotheses_us.csv'`\n",
    "\n",
    "La exploración inicial del dataset se arrojó lo siguiente:\n",
    "\n",
    "- No se encontraron datos ausentes en el dataset.\n",
    "- Es necesario normalizar los nombres de las columnas del dataset. Se canvertirán todos los carácteres en minúsculas.\n",
    "- Los tipos de datos para son los correctos."
   ]
  },
  {
   "cell_type": "markdown",
   "metadata": {},
   "source": [
    "#### Preparar los datos\n",
    "\n",
    "En esta parte se realizará la depuración de los datos, se trabajará en lo siguiente:\n",
    "\n",
    "- Se normalizará el nombre de las columnas del datasets `'hypotheses_us.csv'`."
   ]
  },
  {
   "cell_type": "markdown",
   "metadata": {},
   "source": [
    "##### Normalización de los nombres de las columnas"
   ]
  },
  {
   "cell_type": "code",
   "execution_count": 4,
   "metadata": {},
   "outputs": [
    {
     "name": "stdout",
     "output_type": "stream",
     "text": [
      "<class 'pandas.core.frame.DataFrame'>\n",
      "RangeIndex: 9 entries, 0 to 8\n",
      "Data columns (total 5 columns):\n",
      " #   Column      Non-Null Count  Dtype \n",
      "---  ------      --------------  ----- \n",
      " 0   hypothesis  9 non-null      object\n",
      " 1   reach       9 non-null      int64 \n",
      " 2   impact      9 non-null      int64 \n",
      " 3   confidence  9 non-null      int64 \n",
      " 4   effort      9 non-null      int64 \n",
      "dtypes: int64(4), object(1)\n",
      "memory usage: 488.0+ bytes\n",
      "\n"
     ]
    }
   ],
   "source": [
    "# Se crea una función para realizar el cambio de formato de los nombres de las columnas de los datasets\n",
    "def format_cols(df):\n",
    "    \"\"\"Esta función toma un dataframe como argumento. Para cada uno de los nombres de las columnas del dataframe, normaliza el nombre\n",
    "    de cada una de ellas; convirtiendo todos los carácteres en minúsculas.\"\"\"\n",
    "    new_col_name = []\n",
    "    for col in df.columns:\n",
    "        new_col_name.append(col.lower()) \n",
    "    df.columns = new_col_name\n",
    "\n",
    "\n",
    "format_cols(hypotheses)\n",
    "hypotheses.info()\n",
    "print()"
   ]
  },
  {
   "cell_type": "markdown",
   "metadata": {},
   "source": [
    "### Aplicar el framewrok `ICE`\n",
    "- Se aplicará el framework `ICE` para priorizar las hipótesis y se ordenará el resultado en orden descendente."
   ]
  },
  {
   "cell_type": "code",
   "execution_count": 5,
   "metadata": {},
   "outputs": [
    {
     "name": "stdout",
     "output_type": "stream",
     "text": [
      "Se muestra el resultado del 'ICE' para las hipótesis:\n",
      "\n"
     ]
    },
    {
     "data": {
      "text/html": [
       "<div>\n",
       "<style scoped>\n",
       "    .dataframe tbody tr th:only-of-type {\n",
       "        vertical-align: middle;\n",
       "    }\n",
       "\n",
       "    .dataframe tbody tr th {\n",
       "        vertical-align: top;\n",
       "    }\n",
       "\n",
       "    .dataframe thead th {\n",
       "        text-align: right;\n",
       "    }\n",
       "</style>\n",
       "<table border=\"1\" class=\"dataframe\">\n",
       "  <thead>\n",
       "    <tr style=\"text-align: right;\">\n",
       "      <th></th>\n",
       "      <th>hypothesis</th>\n",
       "      <th>ICE</th>\n",
       "    </tr>\n",
       "  </thead>\n",
       "  <tbody>\n",
       "    <tr>\n",
       "      <th>8</th>\n",
       "      <td>Launch a promotion that gives users discounts ...</td>\n",
       "      <td>16.200000</td>\n",
       "    </tr>\n",
       "    <tr>\n",
       "      <th>0</th>\n",
       "      <td>Add two new channels for attracting traffic. T...</td>\n",
       "      <td>13.333333</td>\n",
       "    </tr>\n",
       "    <tr>\n",
       "      <th>7</th>\n",
       "      <td>Add a subscription form to all the main pages....</td>\n",
       "      <td>11.200000</td>\n",
       "    </tr>\n",
       "    <tr>\n",
       "      <th>6</th>\n",
       "      <td>Show banners with current offers and sales on ...</td>\n",
       "      <td>8.000000</td>\n",
       "    </tr>\n",
       "    <tr>\n",
       "      <th>2</th>\n",
       "      <td>Add product recommendation blocks to the store...</td>\n",
       "      <td>7.000000</td>\n",
       "    </tr>\n",
       "    <tr>\n",
       "      <th>1</th>\n",
       "      <td>Launch your own delivery service. This will sh...</td>\n",
       "      <td>2.000000</td>\n",
       "    </tr>\n",
       "    <tr>\n",
       "      <th>5</th>\n",
       "      <td>Add a customer review page. This will increase...</td>\n",
       "      <td>1.333333</td>\n",
       "    </tr>\n",
       "    <tr>\n",
       "      <th>3</th>\n",
       "      <td>Change the category structure. This will incre...</td>\n",
       "      <td>1.125000</td>\n",
       "    </tr>\n",
       "    <tr>\n",
       "      <th>4</th>\n",
       "      <td>Change the background color on the main page. ...</td>\n",
       "      <td>1.000000</td>\n",
       "    </tr>\n",
       "  </tbody>\n",
       "</table>\n",
       "</div>"
      ],
      "text/plain": [
       "                                          hypothesis        ICE\n",
       "8  Launch a promotion that gives users discounts ...  16.200000\n",
       "0  Add two new channels for attracting traffic. T...  13.333333\n",
       "7  Add a subscription form to all the main pages....  11.200000\n",
       "6  Show banners with current offers and sales on ...   8.000000\n",
       "2  Add product recommendation blocks to the store...   7.000000\n",
       "1  Launch your own delivery service. This will sh...   2.000000\n",
       "5  Add a customer review page. This will increase...   1.333333\n",
       "3  Change the category structure. This will incre...   1.125000\n",
       "4  Change the background color on the main page. ...   1.000000"
      ]
     },
     "metadata": {},
     "output_type": "display_data"
    }
   ],
   "source": [
    "# Se aplica el framewotk 'ICE'; se crea una columna llamada 'ICE' en el dataframe 'hypotheses'\n",
    "\n",
    "hypotheses['ICE'] = (hypotheses['impact'] * hypotheses['confidence']) / hypotheses['effort']\n",
    "\n",
    "print(\"Se muestra el resultado del 'ICE' para las hipótesis:\")\n",
    "print()\n",
    "display(hypotheses[['hypothesis', 'ICE']].sort_values(by='ICE', ascending=False))\n"
   ]
  },
  {
   "cell_type": "markdown",
   "metadata": {},
   "source": [
    "#### Conclusiones\n",
    "- Se encuentra que la hipótesis 8 es la más prometedora, seguida por las hipótesis 0 y 7.\n",
    "- Esto se presenta porque para la hipótesis 8, el impacto y la confianza tiene una gran valoración. Para esta misma hipótesis el alcance es bajo, pero dicho parámetro no es tenido en cuenta en el framework."
   ]
  },
  {
   "cell_type": "markdown",
   "metadata": {},
   "source": [
    "### Aplicar el framewrok `RICE`\n",
    "- Se aplicará el framework `RICE` para priorizar las hipótesis y se ordenará el resultado en orden descendente."
   ]
  },
  {
   "cell_type": "code",
   "execution_count": 6,
   "metadata": {},
   "outputs": [
    {
     "name": "stdout",
     "output_type": "stream",
     "text": [
      "Se muestra el resultado del 'RICE' para las hipótesis:\n",
      "\n"
     ]
    },
    {
     "data": {
      "text/html": [
       "<div>\n",
       "<style scoped>\n",
       "    .dataframe tbody tr th:only-of-type {\n",
       "        vertical-align: middle;\n",
       "    }\n",
       "\n",
       "    .dataframe tbody tr th {\n",
       "        vertical-align: top;\n",
       "    }\n",
       "\n",
       "    .dataframe thead th {\n",
       "        text-align: right;\n",
       "    }\n",
       "</style>\n",
       "<table border=\"1\" class=\"dataframe\">\n",
       "  <thead>\n",
       "    <tr style=\"text-align: right;\">\n",
       "      <th></th>\n",
       "      <th>hypothesis</th>\n",
       "      <th>RICE</th>\n",
       "    </tr>\n",
       "  </thead>\n",
       "  <tbody>\n",
       "    <tr>\n",
       "      <th>7</th>\n",
       "      <td>Add a subscription form to all the main pages....</td>\n",
       "      <td>112.0</td>\n",
       "    </tr>\n",
       "    <tr>\n",
       "      <th>2</th>\n",
       "      <td>Add product recommendation blocks to the store...</td>\n",
       "      <td>56.0</td>\n",
       "    </tr>\n",
       "    <tr>\n",
       "      <th>0</th>\n",
       "      <td>Add two new channels for attracting traffic. T...</td>\n",
       "      <td>40.0</td>\n",
       "    </tr>\n",
       "    <tr>\n",
       "      <th>6</th>\n",
       "      <td>Show banners with current offers and sales on ...</td>\n",
       "      <td>40.0</td>\n",
       "    </tr>\n",
       "    <tr>\n",
       "      <th>8</th>\n",
       "      <td>Launch a promotion that gives users discounts ...</td>\n",
       "      <td>16.2</td>\n",
       "    </tr>\n",
       "    <tr>\n",
       "      <th>3</th>\n",
       "      <td>Change the category structure. This will incre...</td>\n",
       "      <td>9.0</td>\n",
       "    </tr>\n",
       "    <tr>\n",
       "      <th>1</th>\n",
       "      <td>Launch your own delivery service. This will sh...</td>\n",
       "      <td>4.0</td>\n",
       "    </tr>\n",
       "    <tr>\n",
       "      <th>5</th>\n",
       "      <td>Add a customer review page. This will increase...</td>\n",
       "      <td>4.0</td>\n",
       "    </tr>\n",
       "    <tr>\n",
       "      <th>4</th>\n",
       "      <td>Change the background color on the main page. ...</td>\n",
       "      <td>3.0</td>\n",
       "    </tr>\n",
       "  </tbody>\n",
       "</table>\n",
       "</div>"
      ],
      "text/plain": [
       "                                          hypothesis   RICE\n",
       "7  Add a subscription form to all the main pages....  112.0\n",
       "2  Add product recommendation blocks to the store...   56.0\n",
       "0  Add two new channels for attracting traffic. T...   40.0\n",
       "6  Show banners with current offers and sales on ...   40.0\n",
       "8  Launch a promotion that gives users discounts ...   16.2\n",
       "3  Change the category structure. This will incre...    9.0\n",
       "1  Launch your own delivery service. This will sh...    4.0\n",
       "5  Add a customer review page. This will increase...    4.0\n",
       "4  Change the background color on the main page. ...    3.0"
      ]
     },
     "metadata": {},
     "output_type": "display_data"
    }
   ],
   "source": [
    "# Se aplica el framewotk 'RICE'; se crea una columna llamada 'RICE' en el dataframe 'hypotheses'\n",
    "\n",
    "hypotheses['RICE'] = (hypotheses['reach'] * hypotheses['impact'] * hypotheses['confidence']) / hypotheses['effort']\n",
    "\n",
    "print(\"Se muestra el resultado del 'RICE' para las hipótesis:\")\n",
    "print()\n",
    "display(hypotheses[['hypothesis', 'RICE']].sort_values(by='RICE', ascending=False))\n"
   ]
  },
  {
   "cell_type": "markdown",
   "metadata": {},
   "source": [
    "#### Conclusiones\n",
    "- Se encuentra que la hipótesis 7 es la más prometedora, seguida por las hipótesis 2 y 0.\n",
    "- Al incluir el parámetro del alcance cambia la valoración de la hipótesis, por ello, bajo este framework la hipótesis 7 es la más prometedora.\n",
    "- Al tener en cuenta el alcance se observa que la hipótesis 8, que bajo el framework `ICE` obtuvo la mejor valoración, bajo el framework `RICE` pierde relevancia y queda ponderada en el quinto lugar.\n",
    "- Este resultado refleja lo importante que es tener en cuenta la cantidad de usuarios que puede impactar un cambio.\n",
    "- Para este ejercicio se opta por elegir la hipótesis número 2: *'Add product recommendation blocks to the store's site. This will increase conversion and average purchase size'*, ya que esta puede ser probada o no mediante un test A/B."
   ]
  },
  {
   "cell_type": "markdown",
   "metadata": {},
   "source": [
    "## Parte 2. Análisis de test A/B\n",
    "\n",
    "Se realizó un test A/B para probar la hipótesis: *'Add product recommendation blocks to the store's site. This will increase conversion and average purchase size'* y se obtuvieron los resultados descritos en los archivos `'orders_us.csv'` y `'visitors_us.csv'`.\n",
    "\n",
    "Se inicia el análisis con la carga de los datasets, y la exploración inicial de los mismos. Las herramientas a utilizar son:\n",
    "\n",
    "- Importación de librerías a utilizar.\n",
    "- Lectura del archivo de datos, y creación de los dataframes.\n",
    "- Exploración inicial, se utilizan las siguientes herramientas para obtener información acerca del dataset:\n",
    "    * `'sample()'`: para obetner una muestra aleatoria de los datos.\n",
    "    * `'info()'`: para obtener una descripción general del dataset.\n",
    "    * `'dtypes'`: para obterner información acerca del tipo de datos de las columnas del dataset.\n",
    "    * `'describe()'`: para revisar valores de tipo numérico."
   ]
  },
  {
   "cell_type": "code",
   "execution_count": 4,
   "metadata": {},
   "outputs": [],
   "source": [
    "orders = pd.read_csv('orders_us.csv')\n",
    "visits = pd.read_csv('visits_us.csv')\n",
    "\n"
   ]
  },
  {
   "cell_type": "markdown",
   "metadata": {},
   "source": [
    "### Exploración inicial del dataset"
   ]
  },
  {
   "cell_type": "markdown",
   "metadata": {},
   "source": [
    "#### Dataset `'orders_us.csv'`"
   ]
  },
  {
   "cell_type": "code",
   "execution_count": 8,
   "metadata": {},
   "outputs": [
    {
     "name": "stdout",
     "output_type": "stream",
     "text": [
      "-- Una muestra de los datos del dataset 'orders_us.csv': \n",
      "\n",
      "   transactionId   visitorId        date  revenue group\n",
      "0     3667963787  3312258926  2019-08-15     30.4     B\n",
      "1     2804400009  3642806036  2019-08-15     15.2     B\n",
      "2     2961555356  4069496402  2019-08-15     10.2     A\n",
      "3     3797467345  1196621759  2019-08-15    155.1     B\n",
      "4     2282983706  2322279887  2019-08-15     40.5     B\n",
      "\n",
      "-- Información general del dataset 'orders_us.csv': \n",
      "\n",
      "<class 'pandas.core.frame.DataFrame'>\n",
      "RangeIndex: 1197 entries, 0 to 1196\n",
      "Data columns (total 5 columns):\n",
      " #   Column         Non-Null Count  Dtype  \n",
      "---  ------         --------------  -----  \n",
      " 0   transactionId  1197 non-null   int64  \n",
      " 1   visitorId      1197 non-null   int64  \n",
      " 2   date           1197 non-null   object \n",
      " 3   revenue        1197 non-null   float64\n",
      " 4   group          1197 non-null   object \n",
      "dtypes: float64(1), int64(2), object(2)\n",
      "memory usage: 46.9+ KB\n",
      "\n",
      "-- Tipos de datos del dataset 'orders_us.csv': \n",
      "\n",
      "transactionId      int64\n",
      "visitorId          int64\n",
      "date              object\n",
      "revenue          float64\n",
      "group             object\n",
      "dtype: object\n",
      "\n",
      "-- Se muestra información general acerca de los datos numéricos del dataset:\n",
      "\n",
      "       transactionId     visitorId       revenue\n",
      "count   1.197000e+03  1.197000e+03   1197.000000\n",
      "mean    2.155621e+09  2.165960e+09    131.491646\n",
      "std     1.229085e+09  1.236014e+09    603.004729\n",
      "min     1.062393e+06  5.114589e+06      5.000000\n",
      "25%     1.166776e+09  1.111826e+09     20.800000\n",
      "50%     2.145194e+09  2.217985e+09     50.200000\n",
      "75%     3.237740e+09  3.177606e+09    130.400000\n",
      "max     4.293856e+09  4.283872e+09  19920.400000\n"
     ]
    }
   ],
   "source": [
    "# Se imprime una muestras de los registros del dataset\n",
    "print(\"-- Una muestra de los datos del dataset 'orders_us.csv': \\n\")\n",
    "print(orders.head())\n",
    "print()\n",
    "\n",
    "# Se lee la infomación general del dataset\n",
    "print(\"-- Información general del dataset 'orders_us.csv': \\n\")\n",
    "orders.info()\n",
    "print()\n",
    "\n",
    "# Se validan los tipos de datos de las columnas\n",
    "print(\"-- Tipos de datos del dataset 'orders_us.csv': \\n\")\n",
    "print(orders.dtypes)\n",
    "print()\n",
    "\n",
    "print(\"-- Se muestra información general acerca de los datos numéricos del dataset:\\n\")\n",
    "print(orders.describe())"
   ]
  },
  {
   "cell_type": "markdown",
   "metadata": {},
   "source": [
    "##### Hallazgos dataset `'orders_us.csv'`\n",
    "\n",
    "La exploración inicial del dataset arrojó lo siguiente:\n",
    "\n",
    "- No se encontraron datos ausentes en el dataset.\n",
    "- Es necesario normalizar los nombres de las columnas del dataset. Se canvertirán todos los carácteres en minúsculas.\n",
    "- Se cambia el tipo de datos para las columnas:\n",
    "    * `'date'`: se cambia de tipo `'object'` a tipo `'datetime'`.\n"
   ]
  },
  {
   "cell_type": "markdown",
   "metadata": {},
   "source": [
    "#### Dataset `'visits_us.csv'`"
   ]
  },
  {
   "cell_type": "code",
   "execution_count": 9,
   "metadata": {},
   "outputs": [
    {
     "name": "stdout",
     "output_type": "stream",
     "text": [
      "-- Una muestra de los datos del dataset 'visits_us.csv': \n",
      "\n",
      "         date group  visits\n",
      "0  2019-08-01     A     719\n",
      "1  2019-08-02     A     619\n",
      "2  2019-08-03     A     507\n",
      "3  2019-08-04     A     717\n",
      "4  2019-08-05     A     756\n",
      "\n",
      "-- Información general del dataset 'visits_us.csv': \n",
      "\n",
      "<class 'pandas.core.frame.DataFrame'>\n",
      "RangeIndex: 62 entries, 0 to 61\n",
      "Data columns (total 3 columns):\n",
      " #   Column  Non-Null Count  Dtype \n",
      "---  ------  --------------  ----- \n",
      " 0   date    62 non-null     object\n",
      " 1   group   62 non-null     object\n",
      " 2   visits  62 non-null     int64 \n",
      "dtypes: int64(1), object(2)\n",
      "memory usage: 1.6+ KB\n",
      "\n",
      "-- Tipos de datos del dataset 'visits_us.csv': \n",
      "\n",
      "date      object\n",
      "group     object\n",
      "visits     int64\n",
      "dtype: object\n",
      "\n",
      "-- Se muestra información general acerca de los datos numéricos del dataset:\n",
      "\n",
      "           visits\n",
      "count   62.000000\n",
      "mean   607.290323\n",
      "std    114.400560\n",
      "min    361.000000\n",
      "25%    534.000000\n",
      "50%    624.500000\n",
      "75%    710.500000\n",
      "max    770.000000\n"
     ]
    }
   ],
   "source": [
    "# Se imprime una muestras de los registros del dataset\n",
    "print(\"-- Una muestra de los datos del dataset 'visits_us.csv': \\n\")\n",
    "print(visits.head())\n",
    "print()\n",
    "\n",
    "# Se lee la infomación general del dataset\n",
    "print(\"-- Información general del dataset 'visits_us.csv': \\n\")\n",
    "visits.info()\n",
    "print()\n",
    "\n",
    "# Se validan los tipos de datos de las columnas\n",
    "print(\"-- Tipos de datos del dataset 'visits_us.csv': \\n\")\n",
    "print(visits.dtypes)\n",
    "print()\n",
    "\n",
    "print(\"-- Se muestra información general acerca de los datos numéricos del dataset:\\n\")\n",
    "print(visits.describe())\n"
   ]
  },
  {
   "cell_type": "markdown",
   "metadata": {},
   "source": [
    "##### Hallazgos dataset `'visits_us.csv'`\n",
    "\n",
    "La exploración inicial del dataset arrojó lo siguiente:\n",
    "\n",
    "- No se encontraron datos ausentes en el dataset.\n",
    "- No es necesario normalizar los nombres de las columnas.\n",
    "- Se cambia el tipo de datos para las columnas:\n",
    "    * `'date'`: se cambia de tipo `'object'` a tipo `'datetime'`."
   ]
  },
  {
   "cell_type": "markdown",
   "metadata": {},
   "source": [
    "### Valores duplicados\n",
    "\n",
    "- Se valida si en los datasets existen valores duplicados."
   ]
  },
  {
   "cell_type": "code",
   "execution_count": 10,
   "metadata": {},
   "outputs": [
    {
     "name": "stdout",
     "output_type": "stream",
     "text": [
      "-- Total de filas duplicadas en el dataset 'orders_us.csv': 0\n",
      "\n",
      "-- Total de filas duplicadas en el dataset 'visits_us.csv': 0\n",
      "\n",
      "-- Cantidad de users ids únicos: 1031\n",
      "\n",
      "-- Cantidad de transacciones únicas: 1197\n",
      "\n"
     ]
    }
   ],
   "source": [
    "# Se valida si existen filas duplicadas en cada dataset.\n",
    "duplicated_orders = orders.duplicated().sum()\n",
    "print(f\"-- Total de filas duplicadas en el dataset 'orders_us.csv': {duplicated_orders}\")\n",
    "print()\n",
    "\n",
    "duplicated_visits = visits.duplicated().sum()\n",
    "print(f\"-- Total de filas duplicadas en el dataset 'visits_us.csv': {duplicated_visits}\")\n",
    "print()\n",
    "\n",
    "# Se cuenta la cantidad de users ids únicos\n",
    "print(f\"-- Cantidad de users ids únicos: {orders['visitorId'].nunique()}\")\n",
    "print()\n",
    "\n",
    "# Se cuenta la cantidad de transacciones\n",
    "print(f\"-- Cantidad de transacciones únicas: {orders['transactionId'].nunique()}\")\n",
    "print()\n"
   ]
  },
  {
   "cell_type": "markdown",
   "metadata": {},
   "source": [
    "##### Hallazgos\n",
    "\n",
    "- No se encuentran registros duplicados en los datasets.\n",
    "- También se validó los valores de la columna `'visitorsId'` y `'transactionsId'` del dataset `'orders'` y no se econtraron valores duplicados."
   ]
  },
  {
   "cell_type": "markdown",
   "metadata": {},
   "source": [
    "### Preparar los datos\n",
    "\n",
    "Se realizará la depuración de los datos. Se trabajará en lo siguiente:\n",
    "\n",
    "- En el dataset `'orders_us.csv'` se cambiarán los tipos de datos de la columna `'date'` de `object` a `datetime`.\n",
    "- En el dataset `'visits_us.csv'` se cambiarán los tipos de datos de la columna `'date'` de `object` a `datetime`.\n",
    "- Se normalizará el nombre de las columnas en el dataset `'orders_us.csv'`.\n",
    "- Durante las consignas del proyecto se advirtió acerca de la posibilidad de la existencia de errores en los datasets originales; por ejemplo, algunos de los visitantes podrían haber entrado tanto en el grupo A como en el grupo B. Se validará esta información.\n"
   ]
  },
  {
   "cell_type": "markdown",
   "metadata": {},
   "source": [
    "#### Cambiar el tipo de datos"
   ]
  },
  {
   "cell_type": "code",
   "execution_count": 11,
   "metadata": {},
   "outputs": [
    {
     "name": "stdout",
     "output_type": "stream",
     "text": [
      "-- Información general de los datasets 'orders_us.csv' y 'visits_us.csv': \n",
      "\n",
      "<class 'pandas.core.frame.DataFrame'>\n",
      "RangeIndex: 1197 entries, 0 to 1196\n",
      "Data columns (total 5 columns):\n",
      " #   Column         Non-Null Count  Dtype         \n",
      "---  ------         --------------  -----         \n",
      " 0   transactionId  1197 non-null   int64         \n",
      " 1   visitorId      1197 non-null   int64         \n",
      " 2   date           1197 non-null   datetime64[ns]\n",
      " 3   revenue        1197 non-null   float64       \n",
      " 4   group          1197 non-null   object        \n",
      "dtypes: datetime64[ns](1), float64(1), int64(2), object(1)\n",
      "memory usage: 46.9+ KB\n",
      "\n",
      "<class 'pandas.core.frame.DataFrame'>\n",
      "RangeIndex: 62 entries, 0 to 61\n",
      "Data columns (total 3 columns):\n",
      " #   Column  Non-Null Count  Dtype         \n",
      "---  ------  --------------  -----         \n",
      " 0   date    62 non-null     datetime64[ns]\n",
      " 1   group   62 non-null     object        \n",
      " 2   visits  62 non-null     int64         \n",
      "dtypes: datetime64[ns](1), int64(1), object(1)\n",
      "memory usage: 1.6+ KB\n",
      "\n",
      "-- Una muestra de los datos de los datasets 'orders_us.csv' y 'visits_us.csv': \n",
      "\n",
      "   transactionId   visitorId       date  revenue group\n",
      "0     3667963787  3312258926 2019-08-15     30.4     B\n",
      "1     2804400009  3642806036 2019-08-15     15.2     B\n",
      "2     2961555356  4069496402 2019-08-15     10.2     A\n",
      "3     3797467345  1196621759 2019-08-15    155.1     B\n",
      "4     2282983706  2322279887 2019-08-15     40.5     B\n",
      "\n",
      "        date group  visits\n",
      "0 2019-08-01     A     719\n",
      "1 2019-08-02     A     619\n",
      "2 2019-08-03     A     507\n",
      "3 2019-08-04     A     717\n",
      "4 2019-08-05     A     756\n"
     ]
    }
   ],
   "source": [
    "# Se realiza la conversión del tipo de datos de las columnas\n",
    "orders['date'] = pd.to_datetime(orders['date'], format='%Y-%m-%d')\n",
    "                                \n",
    "visits['date'] = pd.to_datetime(visits['date'], format='%Y-%m-%d')\n",
    "\n",
    "# Se valida que la operación se halla realizado correctamente\n",
    "print(\"-- Información general de los datasets 'orders_us.csv' y 'visits_us.csv': \\n\")\n",
    "orders.info()\n",
    "print()\n",
    "visits.info()\n",
    "print()\n",
    "\n",
    "# Se imprime una muestras de los registros del dataset\n",
    "print(\"-- Una muestra de los datos de los datasets 'orders_us.csv' y 'visits_us.csv': \\n\")\n",
    "print(orders.head())\n",
    "print()\n",
    "print(visits.head())"
   ]
  },
  {
   "cell_type": "markdown",
   "metadata": {},
   "source": [
    "#### Normalización de los nombres de las columnas\n",
    "\n",
    "- Se normaliza el nombre de las columnas del dataset `'orders_us.csv'`."
   ]
  },
  {
   "cell_type": "code",
   "execution_count": 12,
   "metadata": {},
   "outputs": [
    {
     "name": "stdout",
     "output_type": "stream",
     "text": [
      "<class 'pandas.core.frame.DataFrame'>\n",
      "RangeIndex: 1197 entries, 0 to 1196\n",
      "Data columns (total 5 columns):\n",
      " #   Column          Non-Null Count  Dtype         \n",
      "---  ------          --------------  -----         \n",
      " 0   transaction_id  1197 non-null   int64         \n",
      " 1   visitor_id      1197 non-null   int64         \n",
      " 2   date            1197 non-null   datetime64[ns]\n",
      " 3   revenue         1197 non-null   float64       \n",
      " 4   group           1197 non-null   object        \n",
      "dtypes: datetime64[ns](1), float64(1), int64(2), object(1)\n",
      "memory usage: 46.9+ KB\n"
     ]
    }
   ],
   "source": [
    "# Se normaliza el nombre de las columnas\n",
    "orders.rename(columns={'visitorId': 'visitor_id', 'transactionId': 'transaction_id'}, inplace=True)\n",
    "\n",
    "# Se valida que la operación se halla realizado correctamente\n",
    "orders.info()\n"
   ]
  },
  {
   "cell_type": "markdown",
   "metadata": {},
   "source": [
    "#### Validar la presencia de usuarios en los dos grupos\n",
    "\n",
    "- Se valida si existen usuarios que están presentes tnato en el grupo `A`, como en el grupo `B`."
   ]
  },
  {
   "cell_type": "code",
   "execution_count": 13,
   "metadata": {},
   "outputs": [
    {
     "name": "stdout",
     "output_type": "stream",
     "text": [
      "-- Cantidad de visitantes únicos del grupo A: 503\n",
      "\n",
      "-- Cantidad de visitantes únicos del grupo B: 586\n",
      "\n",
      "-- Cantidad de visitantes únicos en el dataset 'orders': 1031\n",
      "\n",
      "-- Cantidad de visitantes presentes en los dos grupos: 58\n"
     ]
    }
   ],
   "source": [
    "# Se cuenta la cantidad de usuarios únicos para cada grupo\n",
    "visitor_id_a = orders[orders['group'] == 'A']['visitor_id'].nunique()\n",
    "visitor_id_b = orders[orders['group'] == 'B']['visitor_id'].nunique()\n",
    "\n",
    "# Se valida el resultado obtenido:\n",
    "print(f\"-- Cantidad de visitantes únicos del grupo A: {visitor_id_a}\")\n",
    "print()\n",
    "print(f\"-- Cantidad de visitantes únicos del grupo B: {visitor_id_b}\")\n",
    "print()\n",
    "\n",
    "# Se valida la cantidad de usuarios únicos en el dataset 'orders'\n",
    "print(f\"-- Cantidad de visitantes únicos en el dataset 'orders': {orders['visitor_id'].nunique()}\")\n",
    "print()\n",
    "\n",
    "# Se encuentra la cantidad de usuarios duplicados\n",
    "print(f\"-- Cantidad de visitantes presentes en los dos grupos: {(visitor_id_a + visitor_id_b) - orders['visitor_id'].nunique()}\")\n",
    "\n"
   ]
  },
  {
   "cell_type": "markdown",
   "metadata": {},
   "source": [
    "##### Hallazgos\n",
    "\n",
    "- Se encontró que existen $\\bf 58$ visitantes que están presentes en los dos grupos de estudio."
   ]
  },
  {
   "cell_type": "markdown",
   "metadata": {},
   "source": [
    "##### Eliminar usuarios presentes en los dos grupos\n",
    "\n",
    "- Se procede a eliminar a los usuarios presentes en los dos grupos.\n"
   ]
  },
  {
   "cell_type": "code",
   "execution_count": 14,
   "metadata": {},
   "outputs": [
    {
     "name": "stdout",
     "output_type": "stream",
     "text": [
      "<class 'pandas.core.frame.DataFrame'>\n",
      "Index: 1016 entries, 0 to 1196\n",
      "Data columns (total 5 columns):\n",
      " #   Column          Non-Null Count  Dtype         \n",
      "---  ------          --------------  -----         \n",
      " 0   transaction_id  1016 non-null   int64         \n",
      " 1   visitor_id      1016 non-null   int64         \n",
      " 2   date            1016 non-null   datetime64[ns]\n",
      " 3   revenue         1016 non-null   float64       \n",
      " 4   group           1016 non-null   object        \n",
      "dtypes: datetime64[ns](1), float64(1), int64(2), object(1)\n",
      "memory usage: 47.6+ KB\n"
     ]
    }
   ],
   "source": [
    "# Se encuentran los id de usuarios únicos para cada grupo\n",
    "visitor_id_a = orders[orders['group'] == 'A']['visitor_id'].drop_duplicates()\n",
    "visitor_id_b = orders[orders['group'] == 'B']['visitor_id'].drop_duplicates()\n",
    "\n",
    "# Se encuentran los id de usuarios presentes en los dos grupos\n",
    "duplicated_id = visitor_id_b[visitor_id_b.isin(visitor_id_a)]\n",
    "\n",
    "# Se eliminan estos usuarios del dataset 'orders'\n",
    "orders = orders[~orders['visitor_id'].isin(duplicated_id)]\n",
    "\n",
    "# Se valida el dataset\n",
    "orders.info()\n"
   ]
  },
  {
   "cell_type": "markdown",
   "metadata": {},
   "source": [
    "##### Validar\n",
    "\n",
    "- Se valida nuevamente que no existan usuarios presentes en los dos grupos.\n",
    "- Se observa que quedaron $1016$ registros en el dataset `'orders'`, esto corresponde a $181$ registros menos con respecto al dataset original."
   ]
  },
  {
   "cell_type": "code",
   "execution_count": 15,
   "metadata": {},
   "outputs": [
    {
     "name": "stdout",
     "output_type": "stream",
     "text": [
      "-- Cantidad de visitantes únicos del grupo A: 445\n",
      "\n",
      "-- Cantidad de visitantes únicos del grupo B: 528\n",
      "\n",
      "-- Cantidad de visitantes únicos en el dataset 'orders': 973\n",
      "\n",
      "-- Cantidad de visitantes presentes en los dos grupos: 0\n"
     ]
    }
   ],
   "source": [
    "# Se cuenta la cantidad de usuarios únicos para cada grupo de los users id par cada grupo\n",
    "visitor_id_a = orders[orders['group'] == 'A']['visitor_id'].nunique()\n",
    "visitor_id_b = orders[orders['group'] == 'B']['visitor_id'].nunique()\n",
    "\n",
    "# Se valida el resultado obtenido:\n",
    "print(f\"-- Cantidad de visitantes únicos del grupo A: {visitor_id_a}\")\n",
    "print()\n",
    "print(f\"-- Cantidad de visitantes únicos del grupo B: {visitor_id_b}\")\n",
    "print()\n",
    "\n",
    "# Se valida la cantidad de usuarios únicos en el dataset 'orders'\n",
    "print(f\"-- Cantidad de visitantes únicos en el dataset 'orders': {orders['visitor_id'].nunique()}\")\n",
    "print()\n",
    "\n",
    "# Se encuentra la cantidad de usuarios duplicados\n",
    "print(f\"-- Cantidad de visitantes presentes en los dos grupos: {(visitor_id_a + visitor_id_b) - orders['visitor_id'].nunique()}\")\n"
   ]
  },
  {
   "cell_type": "markdown",
   "metadata": {},
   "source": [
    "##### Conclusiones\n",
    "\n",
    "- Se logró indentificar y eliminar $58$ IDs de usuarios que estaban marcados en los dos grupos de estudio."
   ]
  },
  {
   "cell_type": "markdown",
   "metadata": {},
   "source": [
    "### Análisis de test A/B\n",
    "\n",
    "- Este análisis tiene como objerivo probar la siguiente hipótesis:\n",
    "\n",
    "    *\"Add product recommendation blocks to the store's site. This will increase conversion and average purchase size\"*"
   ]
  },
  {
   "cell_type": "markdown",
   "metadata": {},
   "source": [
    "#### Ingresos acumulados por grupos\n",
    "\n",
    "- Se calcula el ingreso acumulado por cada grupo de estudio, y se grafican los resultados."
   ]
  },
  {
   "cell_type": "code",
   "execution_count": 16,
   "metadata": {},
   "outputs": [
    {
     "name": "stdout",
     "output_type": "stream",
     "text": [
      "-- Valores únicos de 'date' y 'group':\n",
      "         date group\n",
      "0  2019-08-15     B\n",
      "7  2019-08-15     A\n",
      "45 2019-08-16     A\n",
      "47 2019-08-16     B\n",
      "55 2019-08-01     A\n"
     ]
    }
   ],
   "source": [
    "# Se crea un dataframe para almacenar los valores únicos de 'date' y 'group' a partir del dataset 'orders'\n",
    "dates_groups = orders[['date', 'group']].drop_duplicates()\n",
    "\n",
    "# Se valida el dataframe\n",
    "print(f\"-- Valores únicos de 'date' y 'group':\\n{dates_groups.head()}\")\n"
   ]
  },
  {
   "cell_type": "code",
   "execution_count": 17,
   "metadata": {},
   "outputs": [
    {
     "name": "stdout",
     "output_type": "stream",
     "text": [
      "-- Información agregada del dataset 'orders':\n",
      "          date group  transaction_id  visitor_id  revenue\n",
      "55  2019-08-01     A              23          19   2266.6\n",
      "66  2019-08-01     B              17          17    967.2\n",
      "175 2019-08-02     A              42          36   3734.9\n",
      "173 2019-08-02     B              40          39   3535.3\n",
      "291 2019-08-03     A              66          60   5550.1\n"
     ]
    }
   ],
   "source": [
    "# Se crea la variable 'orders_aggregated' para calcular información relacionada con las órdenes, tale como: fecha, grupo, número de\n",
    "# pedidos, número de usuarios únicos e ingersos totales\n",
    "orders_aggregated = dates_groups.apply(lambda x: orders[np.logical_and(orders['date'] <= x['date'], orders['group'] == x['group'])].agg(\n",
    "    {'date': 'max', 'group': 'max', 'transaction_id': pd.Series.nunique, 'visitor_id': pd.Series.nunique, 'revenue': 'sum'}), axis=1).sort_values(by=['date', 'group'])\n",
    "\n",
    "# Se muestra la información obtenida\n",
    "print(f\"-- Información agregada del dataset 'orders':\\n{orders_aggregated.head()}\")"
   ]
  },
  {
   "cell_type": "code",
   "execution_count": 18,
   "metadata": {},
   "outputs": [
    {
     "name": "stdout",
     "output_type": "stream",
     "text": [
      "-- Información agregada del dataset 'visits':\n",
      "          date group  visits\n",
      "55  2019-08-01     A     719\n",
      "66  2019-08-01     B     713\n",
      "175 2019-08-02     A    1338\n",
      "173 2019-08-02     B    1294\n",
      "291 2019-08-03     A    1845\n"
     ]
    }
   ],
   "source": [
    "# Se crea la variable 'visitors_aggregated' para obtner información agregada aceraca del número de visitas\n",
    "visitors_aggregated = dates_groups.apply(lambda x: visits[np.logical_and(visits['date'] <= x['date'], visits['group'] == x['group'])].agg({\n",
    "    'date': 'max', 'group': 'max', 'visits': 'sum'}), axis=1).sort_values(by=['date', 'group'])\n",
    "\n",
    "# Se muestra la información obtenida\n",
    "print(f\"-- Información agregada del dataset 'visits':\\n{visitors_aggregated.head()}\")"
   ]
  },
  {
   "cell_type": "code",
   "execution_count": 19,
   "metadata": {},
   "outputs": [
    {
     "name": "stdout",
     "output_type": "stream",
     "text": [
      "        date group  orders  buyers  revenue  visitors\n",
      "0 2019-08-01     A      23      19   2266.6       719\n",
      "1 2019-08-01     B      17      17    967.2       713\n",
      "2 2019-08-02     A      42      36   3734.9      1338\n",
      "3 2019-08-02     B      40      39   3535.3      1294\n",
      "4 2019-08-03     A      66      60   5550.1      1845\n"
     ]
    }
   ],
   "source": [
    "# Se crea la variable 'cumulative_data' y se fusionan las dos tablas obtenidas anteriormente\n",
    "# Se renombran las columnas para que sean mas descriptivos los nombres\n",
    "cumulative_data = orders_aggregated.merge(visitors_aggregated, left_on=['date', 'group'], right_on=['date', 'group'])\n",
    "cumulative_data.columns = ['date', 'group', 'orders', 'buyers', 'revenue', 'visitors']\n",
    "\n",
    "print(cumulative_data.head())"
   ]
  },
  {
   "cell_type": "code",
   "execution_count": 20,
   "metadata": {},
   "outputs": [
    {
     "name": "stdout",
     "output_type": "stream",
     "text": [
      "--Ingreso acumulado para el grupo A:\n",
      "        date  revenue  orders\n",
      "0 2019-08-01   2266.6      23\n",
      "2 2019-08-02   3734.9      42\n",
      "4 2019-08-03   5550.1      66\n",
      "6 2019-08-04   6225.6      77\n",
      "8 2019-08-05   7623.6      99\n",
      "\n",
      "--Ingreso acumulado para el grupo B:\n",
      "        date  revenue  orders\n",
      "1 2019-08-01    967.2      17\n",
      "3 2019-08-02   3535.3      40\n",
      "5 2019-08-03   4606.9      54\n",
      "7 2019-08-04   6138.5      68\n",
      "9 2019-08-05   7587.8      89\n"
     ]
    }
   ],
   "source": [
    "# Se calcula el ingreso acumulado para cada grupo de estudio\n",
    "cumulative_revenue_a = cumulative_data[cumulative_data['group']=='A'][['date','revenue', 'orders']]\n",
    "print(f\"--Ingreso acumulado para el grupo A:\\n{cumulative_revenue_a.head()}\")\n",
    "print()\n",
    "\n",
    "cumulative_revenue_b = cumulative_data[cumulative_data['group']=='B'][['date','revenue', 'orders']]\n",
    "print(f\"--Ingreso acumulado para el grupo B:\\n{cumulative_revenue_b.head()}\")\n"
   ]
  },
  {
   "cell_type": "markdown",
   "metadata": {},
   "source": [
    "##### Gráfico de ingresos acumulados diarios para los grupso A y B"
   ]
  },
  {
   "cell_type": "code",
   "execution_count": 21,
   "metadata": {},
   "outputs": [
    {
     "data": {
      "image/png": "[encoded data removed]",
      "text/plain": [
       "<Figure size 640x480 with 1 Axes>"
      ]
     },
     "metadata": {},
     "output_type": "display_data"
    }
   ],
   "source": [
    "# Se grafica el ingreso acumulado para cada grupo de estudio\n",
    "plt.plot(cumulative_revenue_a['date'], cumulative_revenue_a['revenue'], label='A')\n",
    "plt.plot(cumulative_revenue_b['date'], cumulative_revenue_b['revenue'], label='B')\n",
    "plt.xlabel('Fecha')\n",
    "plt.ylabel('Ingresos')\n",
    "plt.title('Ingresos acumulados para los grupos A y B')\n",
    "plt.legend()\n",
    "plt.xticks(rotation=45)\n",
    "plt.show()"
   ]
  },
  {
   "cell_type": "markdown",
   "metadata": {},
   "source": [
    "##### Conclusiones\n",
    "- Los ingresos son crecientes durante el periodo de prueba par los dos grupos.\n",
    "- El grupo `B` incrementó mucho más los ingresos aproxiamadamente a mitad de la prueba.\n",
    "- Es necesario analizar si el incremento en el grupo `B` se debe a la presencia de datos anómalos."
   ]
  },
  {
   "cell_type": "markdown",
   "metadata": {},
   "source": [
    "#### Tamaño de pedido promedio\n",
    "\n",
    "- Se calcula y se grafica el tamaño de pedido promedio acumulado por grupo."
   ]
  },
  {
   "cell_type": "markdown",
   "metadata": {},
   "source": [
    "##### Gráfico de tamaño de compra promedio"
   ]
  },
  {
   "cell_type": "code",
   "execution_count": 22,
   "metadata": {},
   "outputs": [
    {
     "data": {
      "image/png": "[encoded data removed]",
      "text/plain": [
       "<Figure size 640x480 with 1 Axes>"
      ]
     },
     "metadata": {},
     "output_type": "display_data"
    }
   ],
   "source": [
    "# Con el dataframe de datos agregados se encuentra el tamaño promedio acumulado de cada ordesn\n",
    "# Se divide el tamaño de la orden entre el número de órdenes, esto se hace para cada grupo.\n",
    "plt.plot(cumulative_revenue_a['date'], cumulative_revenue_a['revenue']/cumulative_revenue_a['orders'], label='A')\n",
    "plt.plot(cumulative_revenue_b['date'], cumulative_revenue_b['revenue']/cumulative_revenue_b['orders'], label='B')\n",
    "plt.xlabel('Fecha')\n",
    "plt.ylabel('Tamaño promedio de la compra')\n",
    "plt.title('Tamaño de compra promedio para los grupos A y B')\n",
    "plt.legend()\n",
    "plt.xticks(rotation=45)\n",
    "plt.show()\n"
   ]
  },
  {
   "cell_type": "markdown",
   "metadata": {},
   "source": [
    "##### Conclusiones\n",
    "- El tamaño promedio de cada compra está fluctuando, esto ocurre para los dos grupos.\n",
    "- De nuevo se observa que el grupo `B` presenta tamños de compras más grandes, en comparación las órdenes del grupo `A`.\n",
    "- El tamaño de las órdenes no llega a estabilizarse durante la prueba, algo que es esperado para esta métrica.\n",
    "- Es necesario validar la presencia de valores atípicos."
   ]
  },
  {
   "cell_type": "markdown",
   "metadata": {},
   "source": [
    "#### Diferencia relativa del tamaño de pedido promedio\n",
    "\n",
    "- Se calcula y se grafica la diferencia relativa en el tamaño de pedido promedio acumulado para el grupo `B` en comparación con el grupo `A`."
   ]
  },
  {
   "cell_type": "code",
   "execution_count": 23,
   "metadata": {},
   "outputs": [
    {
     "name": "stderr",
     "output_type": "stream",
     "text": [
      "No artists with labels found to put in legend.  Note that artists whose label start with an underscore are ignored when legend() is called with no argument.\n"
     ]
    },
    {
     "name": "stdout",
     "output_type": "stream",
     "text": [
      "-- Ingresos acumulados para los grupos 'A' y 'B':\n",
      "        date  revenue_a  orders_a  revenue_b  orders_b\n",
      "0 2019-08-01     2266.6        23      967.2        17\n",
      "1 2019-08-02     3734.9        42     3535.3        40\n",
      "2 2019-08-03     5550.1        66     4606.9        54\n",
      "3 2019-08-04     6225.6        77     6138.5        68\n",
      "4 2019-08-05     7623.6        99     7587.8        89\n"
     ]
    },
    {
     "data": {
      "image/png": "[encoded data removed]",
      "text/plain": [
       "<Figure size 640x480 with 1 Axes>"
      ]
     },
     "metadata": {},
     "output_type": "display_data"
    }
   ],
   "source": [
    "# Se fusionan los dataframe 'cumulative_revenue_a' y 'cumulative_revenue_b\n",
    "merged_cumulative_revenue = cumulative_revenue_a.merge(\n",
    "    cumulative_revenue_b, left_on='date', right_on='date', how='left', suffixes=['_a', '_b'])\n",
    "\n",
    "# Se muestra el dataset obtenido\n",
    "print(f\"-- Ingresos acumulados para los grupos 'A' y 'B':\\n{merged_cumulative_revenue.head()}\")\n",
    "\n",
    "# Se grafica la diferencia relativa entre los tamaños de pedidos para los dos grupos\n",
    "plt.plot(merged_cumulative_revenue['date'], (merged_cumulative_revenue['revenue_b']/merged_cumulative_revenue['orders_b'])/(\n",
    "    merged_cumulative_revenue['revenue_a']/merged_cumulative_revenue['orders_a'])-1)\n",
    "plt.axhline(y=0, color='black', linestyle='--')\n",
    "plt.xlabel('Fecha')\n",
    "plt.ylabel('Tamaño relativo promedio')\n",
    "plt.title('Diferencia relativa en la compra promedio acumulada grupo B contra A')\n",
    "plt.legend()\n",
    "plt.xticks(rotation=45)\n",
    "plt.show()"
   ]
  },
  {
   "cell_type": "markdown",
   "metadata": {},
   "source": [
    "##### Conclusiones\n",
    "- De nuevo se observan diferencias importantes entre los grupos.\n",
    "- Se nota que al inicio de la prueba el grupo `A` toma la delantera, luego el grupo `B` pasa a liderar.\n",
    "- Finalmente después de un periodo de tiempo, los tamaños de las compras del grupo `B` son mas grandes que las del grupo `A`.\n",
    "- Es necesario validar la existencia de valores atípicos, y si estos inciden en el crecimiento del grupo `B`."
   ]
  },
  {
   "cell_type": "markdown",
   "metadata": {},
   "source": [
    "#### Tasa de conversión\n",
    "\n",
    "- Se calcula y se grafica la tasa de conversión para los dos grupos, como la relación entre los pedidos y el número de visitantes diario.\n"
   ]
  },
  {
   "cell_type": "code",
   "execution_count": 24,
   "metadata": {},
   "outputs": [
    {
     "name": "stdout",
     "output_type": "stream",
     "text": [
      "-- Una muestra del dataset 'cumulative_data':\n",
      "        date group  orders  buyers  revenue  visitors\n",
      "0 2019-08-01     A      23      19   2266.6       719\n",
      "1 2019-08-01     B      17      17    967.2       713\n",
      "2 2019-08-02     A      42      36   3734.9      1338\n",
      "3 2019-08-02     B      40      39   3535.3      1294\n",
      "4 2019-08-03     A      66      60   5550.1      1845\n",
      "\n",
      "-- Una muestra del dataset 'cumulative_data':\n",
      "        date group  orders  visitors  conversion\n",
      "0 2019-08-01     A      23       719    0.031989\n",
      "1 2019-08-01     B      17       713    0.023843\n",
      "2 2019-08-02     A      42      1338    0.031390\n",
      "3 2019-08-02     B      40      1294    0.030912\n",
      "4 2019-08-03     A      66      1845    0.035772\n"
     ]
    },
    {
     "data": {
      "image/png": "[encoded data removed]",
      "text/plain": [
       "<Figure size 640x480 with 1 Axes>"
      ]
     },
     "metadata": {},
     "output_type": "display_data"
    }
   ],
   "source": [
    "# Del dataset 'cumulative_data' tenemos el número de visitantes diarios por grupos, y el revenue del día, con esta información\n",
    "# se puede calcular la tasa de conversión\n",
    "print(f\"-- Una muestra del dataset 'cumulative_data':\\n{cumulative_data.head()}\")\n",
    "print()\n",
    "\n",
    "# Se calcula la tase de conversión como: 'orders'/'visitors'\n",
    "cumulative_data['conversion'] = cumulative_data['orders'] / cumulative_data['visitors']\n",
    "\n",
    "# Se valida que la operacióñ se halla realizado correctamente\n",
    "print(f\"-- Una muestra del dataset 'cumulative_data':\\n{cumulative_data[['date', 'group', 'orders', 'visitors', 'conversion']].head()}\")\n",
    "\n",
    "# Se filtra la tasa de conversión para cada grupo\n",
    "cumulative_data_a = cumulative_data[cumulative_data['group'] == 'A']\n",
    "cumulative_data_b = cumulative_data[cumulative_data['group'] == 'B']\n",
    "\n",
    "# Se grafica la tasa de conversión  para cada grupo\n",
    "plt.plot(cumulative_data_a['date'], cumulative_data_a['conversion'], label='A')\n",
    "plt.plot(cumulative_data_b['date'], cumulative_data_b['conversion'], label='B')\n",
    "plt.legend()\n",
    "plt.axis([pd.to_datetime('2019-08-01'), pd.to_datetime('2019-08-31'), 0, 0.05])\n",
    "plt.xlabel('Fecha')\n",
    "plt.ylabel('Tasa de conversión')\n",
    "plt.title('Tasa de conversión para los grupos A y B')\n",
    "plt.xticks(rotation=45)\n",
    "plt.show()"
   ]
  },
  {
   "cell_type": "markdown",
   "metadata": {},
   "source": [
    "##### Tasa de conversión de diferencia relativa\n",
    "\n",
    "- Se grafica la diferencia relativa entre la tasa de conversión acumulada del grupo `B` con respecto al grupo `A`.\n"
   ]
  },
  {
   "cell_type": "code",
   "execution_count": 25,
   "metadata": {},
   "outputs": [
    {
     "data": {
      "image/png": "[encoded data removed]",
      "text/plain": [
       "<Figure size 640x480 with 1 Axes>"
      ]
     },
     "metadata": {},
     "output_type": "display_data"
    }
   ],
   "source": [
    "# Se fusiona la información de la tasa de conversión de cada grupo\n",
    "merged_cumulative_conversions = cumulative_data_a[['date','conversion']].merge(cumulative_data_b[['date','conversion']],\n",
    "                                                                        left_on='date', right_on='date', how='left', suffixes=['_a', '_b'])\n",
    "\n",
    "# Se calcula la diferencia relativa entre las tasas de conversión y se traza el gráfico\n",
    "plt.plot(merged_cumulative_conversions['date'], merged_cumulative_conversions['conversion_b']/merged_cumulative_conversions['conversion_a']-1)\n",
    "plt.axhline(y=0, color='black', linestyle='--')\n",
    "plt.axhline(y=0.2, color='grey', linestyle='--')\n",
    "plt.axis([pd.to_datetime('2019-08-01'), pd.to_datetime('2019-08-31'), -0.5, 0.5])\n",
    "plt.xlabel('Fecha')\n",
    "plt.ylabel('Diferencia relativa')\n",
    "plt.title('Diferencia relativa de la tasa de conversión del grupo B contra A')\n",
    "plt.xticks(rotation=45)\n",
    "plt.show()\n"
   ]
  },
  {
   "cell_type": "markdown",
   "metadata": {},
   "source": [
    "##### Conclusiones\n",
    "\n",
    "- Al inicio de la prueba el grupo `A` presenta una mejor tasa de conversión con respecto al grupo `B`.\n",
    "- Luego de un tiempo la tasa de conversión del grupo `A` comienza a descender pero logra estabilizarse; mientras que la tasa de conversión del grupo `B` va aumentando, y logra estabilizarse con el paso del tiempo.\n",
    "- El gráfico de conversión nos muestra que no hay mucha diferencia entre la tasa de conversión al inicio de la prueba con respecto al final de la prueba, para los dos grupos.\n",
    "- El gráfico de la diferencia relativa en las tasas de conversión, nos muestra que después de un tiempo la tasa de conversión del grupo `B` es mejor que la tasa de conversión del grupo `A`, hasta en un $20\\,\\%$."
   ]
  },
  {
   "cell_type": "markdown",
   "metadata": {},
   "source": [
    "#### Gráficos de dispersión\n",
    "\n",
    "- Se realiza un gráfico de dispersión del número de pedidos por usuario."
   ]
  },
  {
   "cell_type": "code",
   "execution_count": 26,
   "metadata": {},
   "outputs": [
    {
     "name": "stdout",
     "output_type": "stream",
     "text": [
      "-- Número de órdenes por usuario ordenado:\n",
      "   visitor_id  transaction_id\n",
      "0     5114589               1\n",
      "1     6958315               1\n",
      "2    11685486               1\n",
      "3    39475350               1\n",
      "4    47206413               1\n",
      "\n",
      "-- Número de órdenes por usuario:\n",
      "        user_id  orders\n",
      "908  3967698036       3\n",
      "55    249864742       3\n",
      "478  2108163459       3\n",
      "687  2988190573       3\n",
      "890  3908431265       3\n",
      "\n"
     ]
    },
    {
     "data": {
      "image/png": "[encoded data removed]",
      "text/plain": [
       "<Figure size 640x480 with 1 Axes>"
      ]
     },
     "metadata": {},
     "output_type": "display_data"
    }
   ],
   "source": [
    "# Se calcula el número de órdenes por usuario agrupando por usuario y encontrando el número de órdenes únicas con el método 'pd.Series.nunique'\n",
    "# con el método 'drop' se eliminan las columnas inncesarias\n",
    "orders_by_users = (\n",
    "    orders.drop(['group', 'revenue', 'date'], axis=1)\n",
    "    .groupby('visitor_id', as_index=False)\n",
    "    .agg({'transaction_id': pd.Series.nunique})\n",
    ")\n",
    "# Se muestra el dataframe obtenido\n",
    "print(f\"-- Número de órdenes por usuario ordenado:\\n{orders_by_users.head()}\")\n",
    "print()\n",
    "\n",
    "# Se renombra las columnas para una mejor descripción de la información del dataset\n",
    "orders_by_users.columns = ['user_id', 'orders']\n",
    "\n",
    "# Se muestra el dataframe y se ordena por el valor de las columna 'orders'\n",
    "print(f\"-- Número de órdenes por usuario:\\n{orders_by_users.sort_values(by='orders', ascending=False).head()}\")\n",
    "print()\n",
    "\n",
    "# Con la ayuda del método 'plt.scatter' se crea un gráfico de dispersión para el número de pedidos por usuario\n",
    "orders_values = pd.Series(range(0, len(orders_by_users['orders'])))\n",
    "plt.scatter(orders_values, orders_by_users['orders'])\n",
    "plt.xlabel('Usuarios')\n",
    "plt.ylabel('Número de órdenes')\n",
    "plt.title('Dispersión del número de pedidos por usuario')\n",
    "plt.show()"
   ]
  },
  {
   "cell_type": "markdown",
   "metadata": {},
   "source": [
    "##### Conclusiones\n",
    "\n",
    "- Se observa que la gran mayoría de los usuarios realiza $1$ pedido.\n",
    "- Y muy pocos usuarios realizan más de dos pedidos.\n",
    "- Es necesario calcular los percentiles para conocer el porcentaje exacto, y poder considerar si existen anomalías o no."
   ]
  },
  {
   "cell_type": "markdown",
   "metadata": {},
   "source": [
    "#### Cálculo de percentiles del número de pedidos por usuarios.\n",
    "\n",
    "- Se calculan los percentiles $95$ y $99$ para el número de pedidos por usuario. Y también se define el punto en el cual un punto de datos se convierte en un dato atípico."
   ]
  },
  {
   "cell_type": "code",
   "execution_count": 27,
   "metadata": {},
   "outputs": [
    {
     "name": "stdout",
     "output_type": "stream",
     "text": [
      "-- El percentil 95 para el número de órdenes por usuario es: 1.0\n",
      "\n",
      "-- El percentil 99 para el número de órdenes por usuario es: 2.0\n"
     ]
    }
   ],
   "source": [
    "# Con la ayuda del método 'np.percentile' se calculan los percentiles 95 y 99 para el número de órdenes por usuario\n",
    "percentil_95 = np.percentile(orders_by_users['orders'], [95])\n",
    "percentil_99 = np.percentile(orders_by_users['orders'], [99])\n",
    "\n",
    "print(f\"-- El percentil 95 para el número de órdenes por usuario es: {percentil_95[0]}\")\n",
    "print()\n",
    "print(f\"-- El percentil 99 para el número de órdenes por usuario es: {percentil_99[0]}\")"
   ]
  },
  {
   "cell_type": "markdown",
   "metadata": {},
   "source": [
    "##### Conclusiones\n",
    "\n",
    "- No más del $5\\,\\%$ de los usuarios realizó mas de un pedido.\n",
    "- No más del $1\\,\\%$ de los usuarios realizó mas de dos pedido.\n",
    "- *Se define en $\\bf 1$ el número de pedidos por usuario como el punto límite de pedidos para que no sea considerado como dato atípico.*"
   ]
  },
  {
   "cell_type": "markdown",
   "metadata": {},
   "source": [
    "#### Gráfico de dispersión del precio de los pedidos\n",
    "\n",
    "- Se analiza la dispersión de los precios de los pedidos."
   ]
  },
  {
   "cell_type": "code",
   "execution_count": 28,
   "metadata": {},
   "outputs": [
    {
     "data": {
      "image/png": "[encoded data removed]",
      "text/plain": [
       "<Figure size 640x480 with 1 Axes>"
      ]
     },
     "metadata": {},
     "output_type": "display_data"
    }
   ],
   "source": [
    "# Se obtiene el valor de los pedidos del dataset 'orders'\n",
    "orders_revenue = pd.Series(range(0, len(orders['revenue'])))\n",
    "\n",
    "# Se traza el gráfico de dispersión\n",
    "plt.scatter(orders_revenue, orders['revenue'])\n",
    "plt.xlabel('Orden')\n",
    "plt.ylabel('Revenue de la orden')\n",
    "plt.title('Dispersión del revenue de las órdenes')\n",
    "plt.show()\n"
   ]
  },
  {
   "cell_type": "markdown",
   "metadata": {},
   "source": [
    "##### Conclusiones\n",
    "\n",
    "- Se encuentra que la mayoría de las órdenes son de menos de $\\$ 2,500\\,usd$.\n",
    "- Existen algunas órdenes de gran tamaño.\n",
    "- Hay que determinar en qué porcentajes se encuentran las órdenes grandes."
   ]
  },
  {
   "cell_type": "markdown",
   "metadata": {},
   "source": [
    "#### Cálculo de percentiles del número de pedidos por usuarios.\n",
    "\n",
    "- Se calculan los percentiles $95$ y $99$ de los precios de los pedidos, para definir el punto en el cual un punto de datos se convierte en un dato atípico."
   ]
  },
  {
   "cell_type": "code",
   "execution_count": 29,
   "metadata": {},
   "outputs": [
    {
     "name": "stdout",
     "output_type": "stream",
     "text": [
      "-- El percentil 95 para el precio de los pedidos es: 414.275\n",
      "\n",
      "-- El percentil 99 para el precio de los pedidos es: 830.3\n"
     ]
    }
   ],
   "source": [
    "# Con la ayuda del método 'np.percentile' se calculan los percentiles 95 y 99 para el precio de los pedidos\n",
    "percentil_95 = np.percentile(orders['revenue'], [95])\n",
    "percentil_99 = np.percentile(orders['revenue'], [99])\n",
    "\n",
    "print(f\"-- El percentil 95 para el precio de los pedidos es: {percentil_95[0]}\")\n",
    "print()\n",
    "print(f\"-- El percentil 99 para el precio de los pedidos es: {percentil_99[0]}\")"
   ]
  },
  {
   "cell_type": "markdown",
   "metadata": {},
   "source": [
    "##### Conclusiones\n",
    "\n",
    "- Se encuentra que sólo el $5\\,\\%$ de los pedidos es mayor a $\\$414.275\\,usd$.\n",
    "- Sólo el $1\\,\\%$ de los pedido está por encima de los $\\$830.3\\,usd$.\n",
    "- *Se define en $\\$414\\,usd$ el precio del pedido como el punto límite del precio de la órden para que no sea considerada como dato atípico.*\n"
   ]
  },
  {
   "cell_type": "markdown",
   "metadata": {},
   "source": [
    "#### Significancia estadística de la diferencia en la conversión entre los grupos utilizando los datos en bruto.\n",
    "\n",
    "- Se analiza la significancia estadística en la diferencia entre la tasa de conversión entre los grupos `A` y `B`, para este análisis se utilizan los datos en bruto."
   ]
  },
  {
   "cell_type": "code",
   "execution_count": 30,
   "metadata": {},
   "outputs": [
    {
     "name": "stdout",
     "output_type": "stream",
     "text": [
      "-- Número de órdenes por usuario para el grupo A:\n",
      "        user_id  orders\n",
      "58    611059232       3\n",
      "211  2108163459       3\n",
      "310  2988190573       3\n",
      "409  3908431265       3\n",
      "416  3967698036       3\n",
      "\n",
      "-- Número de órdenes por usuario para el grupo B:\n",
      "        user_id  orders\n",
      "347  2742574263       3\n",
      "33    249864742       3\n",
      "486  3935952912       2\n",
      "256  2025197455       2\n",
      "418  3332057097       2\n"
     ]
    }
   ],
   "source": [
    "# Se obtienen los usuarios que realizaron al menos una órden, y se calcula el número de órdenes realizadas.\n",
    "# Esto se obtiene para cada grupo de estudio\n",
    "orders_by_users_a = orders[orders['group']=='A'].groupby('visitor_id', as_index=False).agg({'transaction_id' : pd.Series.nunique})\n",
    "orders_by_users_a.columns = ['user_id', 'orders']\n",
    "\n",
    "orders_by_users_b = orders[orders['group']=='B'].groupby('visitor_id', as_index=False).agg({'transaction_id' : pd.Series.nunique})\n",
    "orders_by_users_b.columns = ['user_id', 'orders']\n",
    "\n",
    "# Se muestra en pantalla las variables\n",
    "print(f\"-- Número de órdenes por usuario para el grupo A:\\n{orders_by_users_a.sort_values(by='orders', ascending=False).head()}\")\n",
    "print()\n",
    "print(f\"-- Número de órdenes por usuario para el grupo B:\\n{orders_by_users_b.sort_values(by='orders', ascending=False).head()}\")"
   ]
  },
  {
   "cell_type": "markdown",
   "metadata": {},
   "source": [
    "Para  aplicar la prueba *Mann-Whitney*, se necesitan dos muestras con usuarios de los diferentes grupos y el número de pedidos. Los que no pidieron nada tendrán un $0$."
   ]
  },
  {
   "cell_type": "code",
   "execution_count": 31,
   "metadata": {},
   "outputs": [
    {
     "name": "stdout",
     "output_type": "stream",
     "text": [
      "p-value: 0.011\n",
      "\n",
      "La hipótesis nula se rechaza, la diferencia es estadísticamente significativa.\n",
      "\n",
      "Conversión relativa para el grupo B: 0.160\n"
     ]
    }
   ],
   "source": [
    "sample_a = pd.concat([orders_by_users_a['orders'], pd.Series(0, index=np.arange(\n",
    "    visits[visits['group'] == 'A']['visits'].sum() - len(orders_by_users_a['orders'])), name='orders')], axis=0)\n",
    "\n",
    "sample_b = pd.concat([orders_by_users_b['orders'], pd.Series(0, index=np.arange(\n",
    "    visits[visits['group'] == 'B']['visits'].sum() - len(orders_by_users_b['orders'])), name='orders')], axis=0)\n",
    "\n",
    "# Se define el valor alpha y se aplica la prueba 'mann-whitney', se imprime el 'p-value' y el resultado de la prueba.\n",
    "alpha = 0.05\n",
    "result = st.mannwhitneyu(sample_a, sample_b)\n",
    "print('p-value:', result.pvalue.round(3))\n",
    "print()\n",
    "\n",
    "if (result.pvalue < alpha):\n",
    "    print(\"La hipótesis nula se rechaza, la diferencia es estadísticamente significativa.\")\n",
    "else:\n",
    "    print(\"No se puede rehzar la hipótesis nula, no hay una difirencia estadísticamente significativa.\")\n",
    "print()\n",
    "\n",
    "print('Conversión relativa para el grupo B:','{0:.3f}'.format(sample_b.mean() / sample_a.mean() - 1))\n",
    "\n"
   ]
  },
  {
   "cell_type": "markdown",
   "metadata": {},
   "source": [
    "##### Conclusiones\n",
    "\n",
    "- Se encuentra una diferencia estadísticamente significativa entre las tasas de conversión de los dos grupos. \n",
    "- La perdida relativa del grupo `A` es de alrededor del $16\\,\\%$.\n",
    "- Es necesario determinar si los valores atípicos inciden en este resultado."
   ]
  },
  {
   "cell_type": "markdown",
   "metadata": {},
   "source": [
    "#### Significancia estadística de la diferencia en el tamaño promedio de pedido entre los grupos utilizando los datos en bruto.\n",
    "\n",
    "- Se analiza la significancia estadística de la diferencia en el tamaño promedio de la compra entre los grupos `A` y `B`, para este análisis se utilizan los datos en bruto."
   ]
  },
  {
   "cell_type": "code",
   "execution_count": 32,
   "metadata": {},
   "outputs": [
    {
     "name": "stdout",
     "output_type": "stream",
     "text": [
      "p-value: 0.862\n",
      "\n",
      "No se puede rechazar la hipótesis nula, no hay una difirencia estadísticamente significativa.\n",
      "\n",
      "Revenue relativo para el grupo B: 0.278\n"
     ]
    }
   ],
   "source": [
    "# Se aplica la prueba para Mann-Whitney a los datos del revenue para cada grupo de  estudio\n",
    "# Se define el valor alpha y se aplica la prueba 'mann-whitney', se imprime el 'p-value' y el resultado de la prueba.\n",
    "alpha = 0.05\n",
    "result_revenue = st.mannwhitneyu(orders[orders['group'] == 'A']['revenue'], orders[orders['group'] == 'B']['revenue'])\n",
    "\n",
    "print('p-value:', result_revenue.pvalue.round(3))\n",
    "print()\n",
    "\n",
    "if (result_revenue.pvalue < alpha):\n",
    "    print(\"La hipótesis nula se rechaza, la diferencia es estadísticamente significativa.\")\n",
    "else:\n",
    "    print(\"No se puede rechazar la hipótesis nula, no hay una difirencia estadísticamente significativa.\")\n",
    "print()\n",
    "\n",
    "print('Revenue relativo para el grupo B:','{0:.3f}'.format(orders[orders['group'] == 'B']['revenue'].mean() / orders[orders['group'] == 'A']['revenue'].mean() - 1))\n"
   ]
  },
  {
   "cell_type": "markdown",
   "metadata": {},
   "source": [
    "##### Conclusiones\n",
    "\n",
    "- Como el `p-value` es mayor que $0.05$ no se encuentra una diferencia estadísticamente significativa entre el tamaño promedio de las compras entre los dos grupos. \n",
    "- Sin embargo la difrencia relativa del tamaño promedio de las compras en mayor para el grupo `B` es en un $27.8\\,\\%$.\n",
    "- Es necesario determinar si los valores atípicos inciden en este resultado."
   ]
  },
  {
   "cell_type": "markdown",
   "metadata": {},
   "source": [
    "#### Significancia estadística de la diferencia en la conversión entre los grupos utilizando los datos filtrados\n",
    "\n",
    "- Ahora se va a calcular la signifincancia estadística de la diferencia en la conversión entre los grupos `A` y `B`. Pero esta vez vamos a filtrar los datos que se consideran atípicos.\n",
    "- En pasos anteriores se determinó que no se tendrían en cuenta los siguientes datos:\n",
    "\n",
    "    - Se considera $\\bf 1$ el número de pedidos por usuario como el punto límite de pedidos.\n",
    "    - Se considera $\\$414\\,usd$ el precio del pedido como el punto límite del precio de la órden.\n",
    "\n",
    "- Con estos límites se deja por fuera el $5\\,\\%$ de los usuarios con la mayor cantidad de pedidos, y entre el $1\\,\\% - 5\\,\\%$ de los usuarios con los pedidos mas costosos."
   ]
  },
  {
   "cell_type": "markdown",
   "metadata": {},
   "source": [
    "##### Filtrado de datos anómalos"
   ]
  },
  {
   "cell_type": "code",
   "execution_count": 33,
   "metadata": {},
   "outputs": [
    {
     "name": "stdout",
     "output_type": "stream",
     "text": [
      "-- Listado de usuarios con mayor cantidad de pedidos, y con pedidos mas caros:\n",
      "568     113298937\n",
      "1099    148427295\n",
      "928     204675465\n",
      "33      249864742\n",
      "684     358944393\n",
      "dtype: int64\n",
      "\n",
      "-- Número de usuarios con mayor cantidad de pedidos, y con pedidos mas caros: 86\n"
     ]
    }
   ],
   "source": [
    "# Se encuentran los usuarios con la mayor cantidad de pedidos, y los usuarios con los pedidos mas caros\n",
    "users_with_many_orders = pd.concat([orders_by_users_a[orders_by_users_a['orders'] > 1]['user_id'], \n",
    "                                   orders_by_users_b[orders_by_users_b['orders'] > 1]['user_id']], axis = 0)\n",
    "\n",
    "users_with_expensive_orders = orders[orders['revenue'] > 414]['visitor_id']\n",
    "\n",
    "# Se fusionan los dos dataset obtenidos anteriormente, asi tendremos en un solo lugar todos los usuarios que se consideran \n",
    "# atípicos\n",
    "abnormal_users = pd.concat([users_with_many_orders, users_with_expensive_orders], axis = 0).drop_duplicates().sort_values()\n",
    "\n",
    "# Se valida el resultado obtenido\n",
    "print(f\"-- Listado de usuarios con mayor cantidad de pedidos, y con pedidos mas caros:\\n{abnormal_users.head()}\")\n",
    "print()\n",
    "print(f\"-- Número de usuarios con mayor cantidad de pedidos, y con pedidos mas caros: {len(abnormal_users)}\")\n",
    "\n",
    "# Se eliminan de la muestra los usuarios considerados anómalos, y se divide las muestra entre los dos grupos de estudio\n",
    "sample_a_filtered = pd.concat([orders_by_users_a[np.logical_not(orders_by_users_a['user_id'].isin(abnormal_users))]['orders'],pd.Series(0, index=np.arange(visits[visits['group'] == 'A']['visits'].sum() - len(orders_by_users_a['orders'])),name='orders')],axis=0)\n",
    "\n",
    "sample_b_filtered = pd.concat([orders_by_users_b[np.logical_not(orders_by_users_b['user_id'].isin(abnormal_users))]['orders'],pd.Series(0, index=np.arange(visits[visits['group'] == 'B']['visits'].sum() - len(orders_by_users_b['orders'])),name='orders')],axis=0)\n",
    "\n"
   ]
  },
  {
   "cell_type": "markdown",
   "metadata": {},
   "source": [
    "##### Cálculo de significancia estadística"
   ]
  },
  {
   "cell_type": "code",
   "execution_count": 34,
   "metadata": {},
   "outputs": [
    {
     "name": "stdout",
     "output_type": "stream",
     "text": [
      "p-value: 0.016\n",
      "\n",
      "La hipótesis nula se rechaza, la diferencia es estadísticamente significativa.\n",
      "\n",
      "Conversión relativa para el grupo B: 0.174\n"
     ]
    }
   ],
   "source": [
    "# Se calcula la significancia estadística en la difrencia de las tasas de conversión entre los grupos 'A' y 'B'\n",
    "# con los datos atípicos filtrados\n",
    "# Se define el valor alpha y se aplica la prueba 'mann-whitney', se imprime el 'p-value' y el resultado de la prueba.\n",
    "alpha = 0.05\n",
    "result_filtered = st.mannwhitneyu(sample_a_filtered, sample_b_filtered)\n",
    "print('p-value:', result_filtered.pvalue.round(3))\n",
    "print()\n",
    "\n",
    "if (result_filtered.pvalue < alpha):\n",
    "    print(\"La hipótesis nula se rechaza, la diferencia es estadísticamente significativa.\")\n",
    "else:\n",
    "    print(\"No se puede rechazar la hipótesis nula, no hay una difirencia estadísticamente significativa.\")\n",
    "print()\n",
    "\n",
    "print('Conversión relativa para el grupo B:','{0:.3f}'.format(sample_b_filtered.mean() / sample_a_filtered.mean() - 1))"
   ]
  },
  {
   "cell_type": "markdown",
   "metadata": {},
   "source": [
    "##### Conclusiones\n",
    "\n",
    "- Se encuentra una diferencia estadísticamente significativa entre las tasas de conversión de los dos grupos, aún cuando se eliminaron los datos atípicos.\n",
    "- La perdida relativa del grupo `A` es de alrededor del $17\\,\\%$. Esta pérdida relativa aumentó, con respecto a la tasa de conversión calcula con los datos en bruto.\n",
    "- La tasa de conversión es mayor en el grupo `B`."
   ]
  },
  {
   "cell_type": "markdown",
   "metadata": {},
   "source": [
    "#### Significancia estadística de la diferencia en el tamaño promedio de pedido entre los grupos utilizando los datos filtrados.\n",
    "\n",
    "- Se analiza la significancia estadística en el tamaño promedio de los pedidos entre los dos grupos, pero ahora no se tienen en cuenta los usuarios atípicos."
   ]
  },
  {
   "cell_type": "markdown",
   "metadata": {},
   "source": [
    "##### Filtrado de datos atípicos\n",
    "- Ya se cuenta con el dataset filtrado, se trabaja con el dataframe `'abnormal_users'`"
   ]
  },
  {
   "cell_type": "code",
   "execution_count": 35,
   "metadata": {},
   "outputs": [],
   "source": [
    "# Se crean las muestras para cada grupo de estudio\n",
    "filtered_order_a = orders[np.logical_and(\n",
    "        orders['group'] == 'A',\n",
    "        np.logical_not(orders['visitor_id'].isin(abnormal_users)))]['revenue']\n",
    "\n",
    "filtered_order_b = orders[np.logical_and(\n",
    "        orders['group'] == 'B',\n",
    "        np.logical_not(orders['visitor_id'].isin(abnormal_users)))]['revenue']"
   ]
  },
  {
   "cell_type": "markdown",
   "metadata": {},
   "source": [
    "##### Cálculo de la significancia estadística"
   ]
  },
  {
   "cell_type": "code",
   "execution_count": 36,
   "metadata": {},
   "outputs": [
    {
     "name": "stdout",
     "output_type": "stream",
     "text": [
      "p-value: 0.771\n",
      "\n",
      "No se puede rechazar la hipótesis nula, no hay una difirencia estadísticamente significativa.\n",
      "\n",
      "Tamaño promedio del pedido relativo para el grupo B: -0.033\n"
     ]
    }
   ],
   "source": [
    "# Se calcula la significancia estadística del tamaño promedio de los pedidos entre los grupos 'A' y 'B'\n",
    "# Se define el valor alpha y se aplica la prueba 'mann-whitney', se imprime el 'p-value' y el resultado de la prueba.\n",
    "alpha = 0.05\n",
    "result_filtered_revenue = st.mannwhitneyu(filtered_order_a, filtered_order_b)\n",
    "print('p-value:', result_filtered_revenue.pvalue.round(3))\n",
    "print()\n",
    "\n",
    "if (result_filtered_revenue.pvalue < alpha):\n",
    "    print(\"La hipótesis nula se rechaza, la diferencia es estadísticamente significativa.\")\n",
    "else:\n",
    "    print(\"No se puede rechazar la hipótesis nula, no hay una difirencia estadísticamente significativa.\")\n",
    "print()\n",
    "\n",
    "print('Tamaño promedio del pedido relativo para el grupo B:','{0:.3f}'.format(filtered_order_b.mean() / filtered_order_a.mean() - 1))"
   ]
  },
  {
   "cell_type": "markdown",
   "metadata": {},
   "source": [
    "##### Conslusiones\n",
    "\n",
    "- Aunque el `p-value` disminuyó se mantiene el resultado, no hay una diferencia estadísticamente significativa entre los dos grupos.\n",
    "- Ahora se observa una diferencia relativa en el tamaño promedio de los pedidos, se encuentra que el tamaño promedio de los pedidos del grupo `B` es menor en un $3.3\\,\\%$ y no mayor en un $27.8\\,\\%$, como se encontró en el análisis con los datos en bruto.\n",
    "- Esto muestra como afectan los análisis los datos atípicos."
   ]
  },
  {
   "cell_type": "markdown",
   "metadata": {},
   "source": [
    "### Conclusiones generales\n",
    "\n",
    "- En términos de tasa de conversión se econtró una diferencia estadísticamente significativa entre los grupos. Tanto como los datos en bruto, como con los datos sin valores atípicos, de hecho la tasa de conversión del grupo `B` mejora si no se consideran los valores atípicos.\n",
    "- El tamaño promedio de la compra no muestra una diferencia estadísticamente significativa entre los grupos. \n",
    "- Si se comparan las diferencias relativas en el tamaño promedio de los pedidos, y sin considerar los valores atípicos, se encuentra que el tamaño promedio relativo del grupo `B` es menor en compración con el grupo `A` en un $3.3\\,\\%$."
   ]
  },
  {
   "cell_type": "markdown",
   "metadata": {},
   "source": [
    "## Decisión con respecto a la prueba\n",
    "\n",
    "- La prueba tiene un éxito parcial. Si bien la prueba muestra que es posible aumentar la tasa de conversión, esto no se ve reflejado en el aumento del tamaño promedio de los pedidos.\n",
    "- Se recomienda:\n",
    "    1. Finalizar la prueba. \n",
    "    2. Continuar con los análisis para descurbrir, el por qué no se está mejorando el tamaño promedio de los pedidos."
   ]
  }
 ],
 "metadata": {
  "kernelspec": {
   "display_name": "Python 3",
   "language": "python",
   "name": "python3"
  },
  "language_info": {
   "codemirror_mode": {
    "name": "ipython",
    "version": 3
   },
   "file_extension": ".py",
   "mimetype": "text/x-python",
   "name": "python",
   "nbconvert_exporter": "python",
   "pygments_lexer": "ipython3",
   "version": "3.10.12"
  }
 },
 "nbformat": 4,
 "nbformat_minor": 4
}
